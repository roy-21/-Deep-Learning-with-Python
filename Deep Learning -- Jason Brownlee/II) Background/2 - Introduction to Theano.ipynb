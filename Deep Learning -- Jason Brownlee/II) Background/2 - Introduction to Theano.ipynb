{
 "cells": [
  {
   "cell_type": "markdown",
   "id": "e55f53e7-036f-42d3-88a7-e8cb61d6f889",
   "metadata": {},
   "source": [
    "# Chapter 2: Introduction to Theano\n",
    "\n",
    "## What is Theano?\n",
    "\n",
    "- Theano is a **Python library for fast numerical computation** on **CPU** or **GPU**.\n",
    "- Developed by the **LISA (now MILA)** group at the University of Montreal (Yoshua Bengio’s lab).\n",
    "- It is a **compiler** for mathematical expressions in Python using:\n",
    "  - **NumPy**\n",
    "  - Native libraries (e.g., **BLAS**)\n",
    "  - Optimized GPU code\n",
    "- Symbolic expressions are defined **abstractly**, then **compiled** and **executed**.\n",
    "- Designed specifically for **deep learning** and **neural networks**.\n",
    "- One of the **earliest and most influential** deep learning libraries (since 2007)."
   ]
  },
  {
   "cell_type": "markdown",
   "id": "4f8e1245-b178-4218-aa9d-c833feddc77f",
   "metadata": {},
   "source": [
    "## 2.3 Simple Theano Example"
   ]
  },
  {
   "cell_type": "code",
   "execution_count": 15,
   "id": "5526a592-199e-4a74-9f03-ec2c2d83aca4",
   "metadata": {},
   "outputs": [
    {
     "name": "stdout",
     "output_type": "stream",
     "text": [
      "4.0\n"
     ]
    }
   ],
   "source": [
    "import theano\n",
    "from theano import tensor\n",
    "\n",
    "# Declare symbolic scalars\n",
    "a = tensor.dscalar()\n",
    "b = tensor.dscalar()\n",
    "\n",
    "# Define expression\n",
    "c = a + b\n",
    "\n",
    "# Compile the function\n",
    "f = theano.function([a, b], c)\n",
    "\n",
    "# Evaluate\n",
    "result = f(1.5, 2.5)\n",
    "print(result)  # Output: 4.0\n"
   ]
  },
  {
   "cell_type": "code",
   "execution_count": null,
   "id": "b11d85d2-6d1f-4b06-8d42-b9075ca1c68c",
   "metadata": {},
   "outputs": [],
   "source": []
  },
  {
   "cell_type": "code",
   "execution_count": null,
   "id": "ad559b41-aaba-4034-b502-dda94e461aa5",
   "metadata": {},
   "outputs": [],
   "source": []
  },
  {
   "cell_type": "code",
   "execution_count": null,
   "id": "6ef0834e-6d90-4a36-85d3-9d1b0e8dce40",
   "metadata": {},
   "outputs": [],
   "source": []
  },
  {
   "cell_type": "code",
   "execution_count": null,
   "id": "68a6d07a-b325-44cd-b47e-3b92bbc2cfe7",
   "metadata": {},
   "outputs": [],
   "source": []
  },
  {
   "cell_type": "code",
   "execution_count": null,
   "id": "8af1cc19-b670-4ab1-8bae-c4001d0c24fa",
   "metadata": {},
   "outputs": [],
   "source": []
  },
  {
   "cell_type": "code",
   "execution_count": null,
   "id": "00a00642-5133-4b3f-945c-9e4e2aa5d1e3",
   "metadata": {},
   "outputs": [],
   "source": []
  },
  {
   "cell_type": "code",
   "execution_count": null,
   "id": "be06948d-2273-488a-8f4a-b8306c98bb3d",
   "metadata": {},
   "outputs": [],
   "source": []
  },
  {
   "cell_type": "code",
   "execution_count": null,
   "id": "4543ad00-3870-41d1-8572-c326219ab5f7",
   "metadata": {},
   "outputs": [],
   "source": []
  },
  {
   "cell_type": "code",
   "execution_count": null,
   "id": "227c1e69-97f9-4e95-8e34-682a94955a50",
   "metadata": {},
   "outputs": [],
   "source": []
  }
 ],
 "metadata": {
  "kernelspec": {
   "display_name": "Python (Theano)",
   "language": "python",
   "name": "theano-env"
  },
  "language_info": {
   "codemirror_mode": {
    "name": "ipython",
    "version": 3
   },
   "file_extension": ".py",
   "mimetype": "text/x-python",
   "name": "python",
   "nbconvert_exporter": "python",
   "pygments_lexer": "ipython3",
   "version": "3.11.9"
  }
 },
 "nbformat": 4,
 "nbformat_minor": 5
}
